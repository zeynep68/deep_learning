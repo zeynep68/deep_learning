{
  "nbformat": 4,
  "nbformat_minor": 0,
  "metadata": {
    "kernelspec": {
      "display_name": "Python 3",
      "language": "python",
      "name": "python3"
    },
    "language_info": {
      "codemirror_mode": {
        "name": "ipython",
        "version": 3
      },
      "file_extension": ".py",
      "mimetype": "text/x-python",
      "name": "python",
      "nbconvert_exporter": "python",
      "pygments_lexer": "ipython3",
      "version": "3.7.4"
    },
    "colab": {
      "name": "MNIST_CNN.ipynb",
      "provenance": []
    },
    "accelerator": "GPU"
  },
  "cells": [
    {
      "cell_type": "code",
      "metadata": {
        "id": "C1M762EuHkeB",
        "colab_type": "code",
        "colab": {}
      },
      "source": [
        "import os\n",
        "import numpy as np\n",
        "import keras\n",
        "import tensorflow as tf\n",
        "import matplotlib.pyplot as plt\n",
        "from tensorflow.keras.models import Sequential\n",
        "from tensorflow.keras.layers import *\n",
        "from keras.datasets import mnist\n",
        "from tensorflow.keras.initializers import *\n",
        "from tensorflow.keras.callbacks import *"
      ],
      "execution_count": 9,
      "outputs": []
    },
    {
      "cell_type": "code",
      "metadata": {
        "id": "SCQxc_ANHkeO",
        "colab_type": "code",
        "colab": {}
      },
      "source": [
        "def create_model(x):\n",
        "    model = Sequential([\n",
        "                        Conv2D(32, kernel_size=(3,3), strides=(1,1), input_shape=x.shape[1:], padding='same'),\n",
        "                        BatchNormalization(),\n",
        "                        Conv2D(32, kernel_size=(3,3), strides=(1,1), padding='same'),\n",
        "                        BatchNormalization(),\n",
        "                        Activation('relu'),\n",
        "                        AveragePooling2D(pool_size=(2,2), strides=(2,2), padding='valid'),\n",
        "                        \n",
        "                        Conv2D(64, kernel_size=(3,3), strides=(1,1), padding='same'),\n",
        "                        Conv2D(64, kernel_size=(3,3), strides=(1,1), padding='same'),\n",
        "                        Activation('relu'),\n",
        "                        AveragePooling2D(pool_size=(2,2), strides=(2,2), padding='valid'),\n",
        "        \n",
        "                        Conv2D(128, kernel_size=(3,3), strides=(1,1), padding='same'),\n",
        "                        BatchNormalization(),\n",
        "                        Conv2D(128, kernel_size=(3,3), strides=(1,1), padding='same'),\n",
        "                        BatchNormalization(),\n",
        "                        Activation('relu'),\n",
        "        \n",
        "                        Flatten(),\n",
        "                        Dense(10, activation='softmax')\n",
        "                       ])\n",
        "    \n",
        "    model.compile(\n",
        "                  optimizer='adam',\n",
        "                  loss='categorical_crossentropy',\n",
        "                  metrics=['accuracy']\n",
        "                 )\n",
        "    \n",
        "    return model"
      ],
      "execution_count": 10,
      "outputs": []
    },
    {
      "cell_type": "code",
      "metadata": {
        "id": "u87_EP5IHkea",
        "colab_type": "code",
        "colab": {}
      },
      "source": [
        "def random_prediction(model, X, n=3):\n",
        "    rand = np.random.randint(len(X),size=n)\n",
        "    \n",
        "    for i in range(0,n):\n",
        "        predictions = model.predict(x_test)\n",
        "        plt.imshow(X[rand[i]].reshape(28,28), cmap= plt.cm.binary)\n",
        "        plt.show()\n",
        "        print(\"Prediction of the model:\", np.argmax(predictions[rand[i]]), \"\\n\")"
      ],
      "execution_count": 11,
      "outputs": []
    },
    {
      "cell_type": "code",
      "metadata": {
        "id": "3yGlr2_iHkei",
        "colab_type": "code",
        "colab": {}
      },
      "source": [
        "def plot_accuracy_and_loss(training, epochs):\n",
        "    x_axis = np.linspace(0, epochs-1, epochs)\n",
        "    plt.figure(figsize=(6, 3))\n",
        "    plt.ylim(-0.2,0.45)\n",
        "    plt.ylabel('loss')\n",
        "    plt.xlabel('epochs')\n",
        "    plt.plot(x_axis, training.history['loss'], 'xb-')\n",
        "    plt.plot(x_axis, training.history['val_loss'], 'xr-')\n",
        "    plt.legend(['train', 'test'])\n",
        "    plt.show()\n",
        "    \n",
        "    plt.figure(figsize=(6, 3))\n",
        "    plt.ylim(0.7,1.25)\n",
        "    plt.ylabel('accuracy')\n",
        "    plt.xlabel('epochs')\n",
        "    plt.plot(x_axis, training.history['accuracy'], 'xb-')\n",
        "    plt.plot(x_axis, training.history['val_accuracy'], 'xr-' )\n",
        "    plt.legend(['train', 'test'])\n",
        "    plt.show()"
      ],
      "execution_count": 12,
      "outputs": []
    },
    {
      "cell_type": "markdown",
      "metadata": {
        "id": "3g0P99LjHke9",
        "colab_type": "text"
      },
      "source": [
        "## load and prepare data"
      ]
    },
    {
      "cell_type": "code",
      "metadata": {
        "id": "ERAVZjAsHke_",
        "colab_type": "code",
        "colab": {}
      },
      "source": [
        "(x_train_original, y_train), (x_test_original, y_test) = mnist.load_data()\n",
        "\n",
        "x_train = tf.keras.utils.normalize(x_train_original, axis=1)\n",
        "x_test = tf.keras.utils.normalize(x_test_original, axis=1)\n",
        "\n",
        "x_train = x_train.reshape((-1, 28,28, 1))\n",
        "x_test = np.expand_dims(x_test, axis=-1) # same as reshape((-1,28,28,1))\n",
        "\n",
        "y_train = keras.utils.to_categorical(y_train, num_classes=10)\n",
        "y_test = keras.utils.to_categorical(y_test, num_classes=10)\n",
        "\n",
        "width, height, depth = x_train.shape[1:]"
      ],
      "execution_count": 16,
      "outputs": []
    },
    {
      "cell_type": "code",
      "metadata": {
        "id": "YWoCEvbeHkfI",
        "colab_type": "code",
        "colab": {}
      },
      "source": [
        "EPOCHS = 20\n",
        "BATCH_SIZE = 256\n",
        "\n",
        "model = create_model(x_train)"
      ],
      "execution_count": 17,
      "outputs": []
    },
    {
      "cell_type": "code",
      "metadata": {
        "scrolled": true,
        "id": "QO1pDYcBHkfO",
        "colab_type": "code",
        "colab": {
          "base_uri": "https://localhost:8080/",
          "height": 1000
        },
        "outputId": "3551bb0c-43fe-4708-9624-177119fcc61e"
      },
      "source": [
        "training = model.fit(\n",
        "                     x_train,\n",
        "                     y_train,\n",
        "                     batch_size=BATCH_SIZE, \n",
        "                     epochs=EPOCHS,\n",
        "                     validation_data=(x_test, y_test))\n",
        "\n",
        "model.summary() "
      ],
      "execution_count": 18,
      "outputs": [
        {
          "output_type": "stream",
          "text": [
            "Epoch 1/20\n",
            "235/235 [==============================] - 4s 16ms/step - loss: 0.1368 - accuracy: 0.9582 - val_loss: 1.7182 - val_accuracy: 0.3487\n",
            "Epoch 2/20\n",
            "235/235 [==============================] - 3s 15ms/step - loss: 0.0431 - accuracy: 0.9872 - val_loss: 0.2075 - val_accuracy: 0.9336\n",
            "Epoch 3/20\n",
            "235/235 [==============================] - 3s 15ms/step - loss: 0.0334 - accuracy: 0.9894 - val_loss: 0.0330 - val_accuracy: 0.9895\n",
            "Epoch 4/20\n",
            "235/235 [==============================] - 3s 14ms/step - loss: 0.0255 - accuracy: 0.9916 - val_loss: 0.0409 - val_accuracy: 0.9877\n",
            "Epoch 5/20\n",
            "235/235 [==============================] - 3s 15ms/step - loss: 0.0201 - accuracy: 0.9933 - val_loss: 0.0288 - val_accuracy: 0.9915\n",
            "Epoch 6/20\n",
            "235/235 [==============================] - 3s 14ms/step - loss: 0.0171 - accuracy: 0.9943 - val_loss: 0.0560 - val_accuracy: 0.9867\n",
            "Epoch 7/20\n",
            "235/235 [==============================] - 3s 14ms/step - loss: 0.0151 - accuracy: 0.9950 - val_loss: 0.0360 - val_accuracy: 0.9894\n",
            "Epoch 8/20\n",
            "235/235 [==============================] - 3s 14ms/step - loss: 0.0130 - accuracy: 0.9958 - val_loss: 0.0562 - val_accuracy: 0.9832\n",
            "Epoch 9/20\n",
            "235/235 [==============================] - 3s 15ms/step - loss: 0.0144 - accuracy: 0.9952 - val_loss: 0.0314 - val_accuracy: 0.9911\n",
            "Epoch 10/20\n",
            "235/235 [==============================] - 3s 14ms/step - loss: 0.0132 - accuracy: 0.9956 - val_loss: 0.0303 - val_accuracy: 0.9920\n",
            "Epoch 11/20\n",
            "235/235 [==============================] - 3s 14ms/step - loss: 0.0093 - accuracy: 0.9971 - val_loss: 0.0421 - val_accuracy: 0.9894\n",
            "Epoch 12/20\n",
            "235/235 [==============================] - 3s 14ms/step - loss: 0.0102 - accuracy: 0.9966 - val_loss: 0.0359 - val_accuracy: 0.9905\n",
            "Epoch 13/20\n",
            "235/235 [==============================] - 3s 15ms/step - loss: 0.0059 - accuracy: 0.9980 - val_loss: 0.0262 - val_accuracy: 0.9926\n",
            "Epoch 14/20\n",
            "235/235 [==============================] - 3s 14ms/step - loss: 0.0077 - accuracy: 0.9973 - val_loss: 0.0403 - val_accuracy: 0.9903\n",
            "Epoch 15/20\n",
            "235/235 [==============================] - 3s 14ms/step - loss: 0.0122 - accuracy: 0.9962 - val_loss: 0.0341 - val_accuracy: 0.9921\n",
            "Epoch 16/20\n",
            "235/235 [==============================] - 3s 14ms/step - loss: 0.0074 - accuracy: 0.9975 - val_loss: 0.0350 - val_accuracy: 0.9924\n",
            "Epoch 17/20\n",
            "235/235 [==============================] - 3s 15ms/step - loss: 0.0038 - accuracy: 0.9987 - val_loss: 0.0317 - val_accuracy: 0.9925\n",
            "Epoch 18/20\n",
            "235/235 [==============================] - 3s 14ms/step - loss: 0.0073 - accuracy: 0.9976 - val_loss: 0.0573 - val_accuracy: 0.9895\n",
            "Epoch 19/20\n",
            "235/235 [==============================] - 3s 15ms/step - loss: 0.0085 - accuracy: 0.9969 - val_loss: 0.0390 - val_accuracy: 0.9915\n",
            "Epoch 20/20\n",
            "235/235 [==============================] - 3s 15ms/step - loss: 0.0067 - accuracy: 0.9977 - val_loss: 0.0551 - val_accuracy: 0.9868\n",
            "Model: \"sequential_2\"\n",
            "_________________________________________________________________\n",
            "Layer (type)                 Output Shape              Param #   \n",
            "=================================================================\n",
            "conv2d_12 (Conv2D)           (None, 28, 28, 32)        320       \n",
            "_________________________________________________________________\n",
            "batch_normalization_8 (Batch (None, 28, 28, 32)        128       \n",
            "_________________________________________________________________\n",
            "conv2d_13 (Conv2D)           (None, 28, 28, 32)        9248      \n",
            "_________________________________________________________________\n",
            "batch_normalization_9 (Batch (None, 28, 28, 32)        128       \n",
            "_________________________________________________________________\n",
            "activation_6 (Activation)    (None, 28, 28, 32)        0         \n",
            "_________________________________________________________________\n",
            "average_pooling2d_4 (Average (None, 14, 14, 32)        0         \n",
            "_________________________________________________________________\n",
            "conv2d_14 (Conv2D)           (None, 14, 14, 64)        18496     \n",
            "_________________________________________________________________\n",
            "conv2d_15 (Conv2D)           (None, 14, 14, 64)        36928     \n",
            "_________________________________________________________________\n",
            "activation_7 (Activation)    (None, 14, 14, 64)        0         \n",
            "_________________________________________________________________\n",
            "average_pooling2d_5 (Average (None, 7, 7, 64)          0         \n",
            "_________________________________________________________________\n",
            "conv2d_16 (Conv2D)           (None, 7, 7, 128)         73856     \n",
            "_________________________________________________________________\n",
            "batch_normalization_10 (Batc (None, 7, 7, 128)         512       \n",
            "_________________________________________________________________\n",
            "conv2d_17 (Conv2D)           (None, 7, 7, 128)         147584    \n",
            "_________________________________________________________________\n",
            "batch_normalization_11 (Batc (None, 7, 7, 128)         512       \n",
            "_________________________________________________________________\n",
            "activation_8 (Activation)    (None, 7, 7, 128)         0         \n",
            "_________________________________________________________________\n",
            "flatten_2 (Flatten)          (None, 6272)              0         \n",
            "_________________________________________________________________\n",
            "dense_2 (Dense)              (None, 10)                62730     \n",
            "=================================================================\n",
            "Total params: 350,442\n",
            "Trainable params: 349,802\n",
            "Non-trainable params: 640\n",
            "_________________________________________________________________\n"
          ],
          "name": "stdout"
        }
      ]
    },
    {
      "cell_type": "code",
      "metadata": {
        "id": "1aBsfbkPHkfV",
        "colab_type": "code",
        "colab": {
          "base_uri": "https://localhost:8080/",
          "height": 52
        },
        "outputId": "be2f8844-8cea-4596-a958-8a57e480cb26"
      },
      "source": [
        "print(\"Test set result after whole training\")\n",
        "validation = model.evaluate(x_test, y_test, batch_size=BATCH_SIZE)"
      ],
      "execution_count": 19,
      "outputs": [
        {
          "output_type": "stream",
          "text": [
            "Test set result after whole training\n",
            "40/40 [==============================] - 0s 6ms/step - loss: 0.0551 - accuracy: 0.9868\n"
          ],
          "name": "stdout"
        }
      ]
    },
    {
      "cell_type": "code",
      "metadata": {
        "id": "5cjhkAW3Hkfd",
        "colab_type": "code",
        "colab": {
          "base_uri": "https://localhost:8080/",
          "height": 433
        },
        "outputId": "d05307dd-5eeb-49ee-8bc7-81338ecf193d"
      },
      "source": [
        "plot_accuracy_and_loss(training, EPOCHS)"
      ],
      "execution_count": 20,
      "outputs": [
        {
          "output_type": "display_data",
          "data": {
            "image/png": "[encoded data removed]",
            "text/plain": [
              "<Figure size 432x216 with 1 Axes>"
            ]
          },
          "metadata": {
            "tags": [],
            "needs_background": "light"
          }
        },
        {
          "output_type": "display_data",
          "data": {
            "image/png": "[encoded data removed]",
            "text/plain": [
              "<Figure size 432x216 with 1 Axes>"
            ]
          },
          "metadata": {
            "tags": [],
            "needs_background": "light"
          }
        }
      ]
    },
    {
      "cell_type": "code",
      "metadata": {
        "id": "lOM67uZtHkfk",
        "colab_type": "code",
        "colab": {
          "base_uri": "https://localhost:8080/",
          "height": 885
        },
        "outputId": "52dda377-3979-4719-c57d-e62efcba6c1d"
      },
      "source": [
        "print(\"Pick randomly images and predict their result:\")\n",
        "random_prediction(model, x_test_original)"
      ],
      "execution_count": 22,
      "outputs": [
        {
          "output_type": "stream",
          "text": [
            "Pick randomly images and predict their result:\n"
          ],
          "name": "stdout"
        },
        {
          "output_type": "display_data",
          "data": {
            "image/png": "[encoded data removed]",
            "text/plain": [
              "<Figure size 432x288 with 1 Axes>"
            ]
          },
          "metadata": {
            "tags": [],
            "needs_background": "light"
          }
        },
        {
          "output_type": "stream",
          "text": [
            "Prediction of the model: 3 \n",
            "\n"
          ],
          "name": "stdout"
        },
        {
          "output_type": "display_data",
          "data": {
            "image/png": "[encoded data removed]",
            "text/plain": [
              "<Figure size 432x288 with 1 Axes>"
            ]
          },
          "metadata": {
            "tags": [],
            "needs_background": "light"
          }
        },
        {
          "output_type": "stream",
          "text": [
            "Prediction of the model: 8 \n",
            "\n"
          ],
          "name": "stdout"
        },
        {
          "output_type": "display_data",
          "data": {
            "image/png": "[encoded data removed]",
            "text/plain": [
              "<Figure size 432x288 with 1 Axes>"
            ]
          },
          "metadata": {
            "tags": [],
            "needs_background": "light"
          }
        },
        {
          "output_type": "stream",
          "text": [
            "Prediction of the model: 2 \n",
            "\n"
          ],
          "name": "stdout"
        }
      ]
    }
  ]
}