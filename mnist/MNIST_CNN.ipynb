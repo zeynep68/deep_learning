{
 "cells": [
  {
   "cell_type": "code",
   "execution_count": 1,
   "metadata": {},
   "outputs": [
    {
     "name": "stderr",
     "output_type": "stream",
     "text": [
      "Using TensorFlow backend.\n"
     ]
    }
   ],
   "source": [
    "import os\n",
    "import numpy as np\n",
    "import keras\n",
    "import tensorflow as tf\n",
    "import matplotlib.pyplot as plt\n",
    "from tensorflow.keras.models import Sequential\n",
    "from tensorflow.keras.layers import *\n",
    "from keras.datasets import mnist\n",
    "from tensorflow.keras.initializers import *\n",
    "from tensorflow.keras.callbacks import *"
   ]
  },
  {
   "cell_type": "code",
   "execution_count": 2,
   "metadata": {},
   "outputs": [],
   "source": [
    "def create_model(x):\n",
    "    model = Sequential([\n",
    "                        Conv2D(32, kernel_size=(5,5), strides=(1,1), input_shape=x.shape[1:], padding='same'),\n",
    "                        Activation('tanh'),\n",
    "                        AveragePooling2D(pool_size=(2,2), strides=(2,2), padding='valid'),\n",
    "                        \n",
    "                        Conv2D(64, kernel_size=(5,5), strides=(1,1), padding='same'),\n",
    "                        Activation('tanh'),\n",
    "                        AveragePooling2D(pool_size=(2,2), strides=(2,2), padding='valid'),\n",
    "        \n",
    "                        Conv2D(64, kernel_size=(5,5), strides=(1,1), padding='same'),\n",
    "                        Activation('tanh'),\n",
    "        \n",
    "                        Flatten(),\n",
    "                        Dense(10, activation='softmax')\n",
    "                       ])\n",
    "    \n",
    "    model.compile(\n",
    "                  optimizer='adam',\n",
    "                  loss='categorical_crossentropy',\n",
    "                  metrics=['accuracy']\n",
    "                 )\n",
    "    \n",
    "    return model"
   ]
  },
  {
   "cell_type": "code",
   "execution_count": 3,
   "metadata": {},
   "outputs": [],
   "source": [
    "def random_prediction(model, X, n=3):\n",
    "    rand = np.random.randint(len(X),size=n)\n",
    "    \n",
    "    for i in range(0,n):\n",
    "        predictions = model.predict(x_test)\n",
    "        plt.imshow(X[rand[i]].reshape(28,28), cmap= plt.cm.binary)\n",
    "        plt.show()\n",
    "        print(\"Prediction of the model:\", np.argmax(predictions[rand[i]]), \"\\n\")"
   ]
  },
  {
   "cell_type": "code",
   "execution_count": 4,
   "metadata": {},
   "outputs": [],
   "source": [
    "def plot_accuracy_and_loss(training, epochs):\n",
    "    x_axis = np.linspace(0, epochs-1, epochs)\n",
    "    plt.figure(figsize=(6, 3))\n",
    "    plt.ylim(-0.2,0.45)\n",
    "    plt.ylabel('loss')\n",
    "    plt.xlabel('epochs')\n",
    "    plt.plot(x_axis, training.history['loss'], 'xb-')\n",
    "    plt.plot(x_axis, training.history['val_loss'], 'xr-')\n",
    "    plt.legend(['train', 'test'])\n",
    "    plt.show()\n",
    "    \n",
    "    plt.figure(figsize=(6, 3))\n",
    "    plt.ylim(0.7,1.25)\n",
    "    plt.ylabel('accuracy')\n",
    "    plt.xlabel('epochs')\n",
    "    plt.plot(x_axis, training.history['accuracy'], 'xb-')\n",
    "    plt.plot(x_axis, training.history['val_accuracy'], 'xr-' )\n",
    "    plt.legend(['train', 'test'])\n",
    "    plt.show()"
   ]
  },
  {
   "cell_type": "code",
   "execution_count": 5,
   "metadata": {},
   "outputs": [],
   "source": [
    "def save_model(model):\n",
    "    dir_path = \"/Users/zeynep068/deep-learning/models\"\n",
    "\n",
    "    if not os.path.exists(dir_path):\n",
    "        os.mkdir(dir_path)\n",
    "\n",
    "    mnist_model_path = os.path.join(dir_path, \"mnist_cnn.h5\")\n",
    "\n",
    "    model.save_weights(filepath=mnist_model_path)"
   ]
  },
  {
   "cell_type": "code",
   "execution_count": 6,
   "metadata": {},
   "outputs": [],
   "source": [
    "def logs_path(): # tb callback erstellen\n",
    "    log_dir = \"/Users/zeynep068/deep-learning/logs\" # path, wo wir die tensorboard logs speichern wollen\n",
    "\n",
    "    if not os.path.exists(log_dir):\n",
    "        os.mkdir(log_dir)\n",
    "    return log_dir"
   ]
  },
  {
   "cell_type": "markdown",
   "metadata": {},
   "source": [
    "## load and prepare data"
   ]
  },
  {
   "cell_type": "code",
   "execution_count": 7,
   "metadata": {},
   "outputs": [],
   "source": [
    "(x_train_original, y_train), (x_test_original, y_test) = mnist.load_data()\n",
    "\n",
    "x_train = tf.keras.utils.normalize(x_train_original, axis=1)\n",
    "x_test = tf.keras.utils.normalize(x_test_original, axis=1)\n",
    "\n",
    "x_train = x_train.reshape((-1, 28,28, 1))\n",
    "x_test = np.expand_dims(x_test, axis=-1) # same as reshape((-1,28,28,1))\n",
    "\n",
    "y_train = keras.utils.to_categorical(y_train, num_classes=10)\n",
    "y_test = keras.utils.to_categorical(y_test, num_classes=10)\n",
    "\n",
    "width, height, depth = x_train.shape[1:]"
   ]
  },
  {
   "cell_type": "code",
   "execution_count": 8,
   "metadata": {},
   "outputs": [],
   "source": [
    "EPOCHS = 20\n",
    "BATCH_SIZE = 128\n",
    "\n",
    "model = create_model(x_train)\n",
    "\n",
    "tb = TensorBoard(log_dir=logs_path(),\n",
    "                 histogram_freq=1, \n",
    "                 write_graph=True\n",
    "                )  "
   ]
  },
  {
   "cell_type": "code",
   "execution_count": 9,
   "metadata": {},
   "outputs": [
    {
     "name": "stdout",
     "output_type": "stream",
     "text": [
      "Train on 60000 samples, validate on 10000 samples\n",
      "Epoch 1/20\n",
      "60000/60000 [==============================] - 69s 1ms/sample - loss: 0.3096 - accuracy: 0.9072 - val_loss: 0.1338 - val_accuracy: 0.9582\n",
      "Epoch 2/20\n",
      "60000/60000 [==============================] - 67s 1ms/sample - loss: 0.1194 - accuracy: 0.9618 - val_loss: 0.0838 - val_accuracy: 0.9754\n",
      "Epoch 3/20\n",
      "60000/60000 [==============================] - 60s 1ms/sample - loss: 0.0775 - accuracy: 0.9763 - val_loss: 0.0853 - val_accuracy: 0.9720\n",
      "Epoch 4/20\n",
      "60000/60000 [==============================] - 62s 1ms/sample - loss: 0.0611 - accuracy: 0.9806 - val_loss: 0.0641 - val_accuracy: 0.9811\n",
      "Epoch 5/20\n",
      "60000/60000 [==============================] - 63s 1ms/sample - loss: 0.0482 - accuracy: 0.9847 - val_loss: 0.0768 - val_accuracy: 0.9769\n",
      "Epoch 6/20\n",
      "60000/60000 [==============================] - 62s 1ms/sample - loss: 0.0396 - accuracy: 0.9863 - val_loss: 0.0621 - val_accuracy: 0.9824\n",
      "Epoch 7/20\n",
      "60000/60000 [==============================] - 64s 1ms/sample - loss: 0.0334 - accuracy: 0.9886 - val_loss: 0.0619 - val_accuracy: 0.9818\n",
      "Epoch 8/20\n",
      "60000/60000 [==============================] - 69s 1ms/sample - loss: 0.0254 - accuracy: 0.9919 - val_loss: 0.0693 - val_accuracy: 0.9804\n",
      "Epoch 9/20\n",
      "60000/60000 [==============================] - 65s 1ms/sample - loss: 0.0216 - accuracy: 0.9926 - val_loss: 0.0586 - val_accuracy: 0.9833\n",
      "Epoch 10/20\n",
      "60000/60000 [==============================] - 66s 1ms/sample - loss: 0.0201 - accuracy: 0.9932 - val_loss: 0.0635 - val_accuracy: 0.9833\n",
      "Epoch 11/20\n",
      "60000/60000 [==============================] - 68s 1ms/sample - loss: 0.0139 - accuracy: 0.9952 - val_loss: 0.0647 - val_accuracy: 0.9828\n",
      "Epoch 12/20\n",
      "60000/60000 [==============================] - 67s 1ms/sample - loss: 0.0145 - accuracy: 0.9953 - val_loss: 0.0633 - val_accuracy: 0.9850\n",
      "Epoch 13/20\n",
      "60000/60000 [==============================] - 65s 1ms/sample - loss: 0.0187 - accuracy: 0.9937 - val_loss: 0.0654 - val_accuracy: 0.9843\n",
      "Epoch 14/20\n",
      "60000/60000 [==============================] - 74s 1ms/sample - loss: 0.0144 - accuracy: 0.9950 - val_loss: 0.0597 - val_accuracy: 0.9857\n",
      "Epoch 15/20\n",
      "60000/60000 [==============================] - 72s 1ms/sample - loss: 0.0094 - accuracy: 0.9966 - val_loss: 0.0793 - val_accuracy: 0.9846\n",
      "Epoch 16/20\n",
      "60000/60000 [==============================] - 69s 1ms/sample - loss: 0.0127 - accuracy: 0.9956 - val_loss: 0.0717 - val_accuracy: 0.9842\n",
      "Epoch 17/20\n",
      "60000/60000 [==============================] - 65s 1ms/sample - loss: 0.0101 - accuracy: 0.9966 - val_loss: 0.0825 - val_accuracy: 0.9823\n",
      "Epoch 18/20\n",
      "60000/60000 [==============================] - 64s 1ms/sample - loss: 0.0092 - accuracy: 0.9968 - val_loss: 0.0593 - val_accuracy: 0.9863\n",
      "Epoch 19/20\n",
      "60000/60000 [==============================] - 62s 1ms/sample - loss: 0.0137 - accuracy: 0.9954 - val_loss: 0.0872 - val_accuracy: 0.9820\n",
      "Epoch 20/20\n",
      "60000/60000 [==============================] - 63s 1ms/sample - loss: 0.0157 - accuracy: 0.9949 - val_loss: 0.0918 - val_accuracy: 0.9816\n",
      "Model: \"sequential\"\n",
      "_________________________________________________________________\n",
      "Layer (type)                 Output Shape              Param #   \n",
      "=================================================================\n",
      "conv2d (Conv2D)              (None, 28, 28, 32)        832       \n",
      "_________________________________________________________________\n",
      "activation (Activation)      (None, 28, 28, 32)        0         \n",
      "_________________________________________________________________\n",
      "average_pooling2d (AveragePo (None, 14, 14, 32)        0         \n",
      "_________________________________________________________________\n",
      "conv2d_1 (Conv2D)            (None, 14, 14, 64)        51264     \n",
      "_________________________________________________________________\n",
      "activation_1 (Activation)    (None, 14, 14, 64)        0         \n",
      "_________________________________________________________________\n",
      "average_pooling2d_1 (Average (None, 7, 7, 64)          0         \n",
      "_________________________________________________________________\n",
      "conv2d_2 (Conv2D)            (None, 7, 7, 64)          102464    \n",
      "_________________________________________________________________\n",
      "activation_2 (Activation)    (None, 7, 7, 64)          0         \n",
      "_________________________________________________________________\n",
      "flatten (Flatten)            (None, 3136)              0         \n",
      "_________________________________________________________________\n",
      "dense (Dense)                (None, 10)                31370     \n",
      "=================================================================\n",
      "Total params: 185,930\n",
      "Trainable params: 185,930\n",
      "Non-trainable params: 0\n",
      "_________________________________________________________________\n"
     ]
    }
   ],
   "source": [
    "training = model.fit(\n",
    "                     x_train,\n",
    "                     y_train,\n",
    "                     batch_size=BATCH_SIZE, \n",
    "                     epochs=EPOCHS,\n",
    "                     validation_data=(x_test, y_test),\n",
    "                     callbacks=[tb])\n",
    "\n",
    "model.summary() "
   ]
  },
  {
   "cell_type": "code",
   "execution_count": 10,
   "metadata": {},
   "outputs": [
    {
     "name": "stdout",
     "output_type": "stream",
     "text": [
      "Test set result after whole training\n",
      "10000/10000 [==============================] - 3s 316us/sample - loss: 0.0918 - accuracy: 0.9816\n"
     ]
    }
   ],
   "source": [
    "print(\"Test set result after whole training\")\n",
    "validation = model.evaluate(x_test, y_test, batch_size=BATCH_SIZE)"
   ]
  },
  {
   "cell_type": "code",
   "execution_count": 11,
   "metadata": {},
   "outputs": [
    {
     "data": {
      "image/png": "[encoded data removed]",
      "text/plain": [
       "<Figure size 432x216 with 1 Axes>"
      ]
     },
     "metadata": {
      "needs_background": "light"
     },
     "output_type": "display_data"
    },
    {
     "data": {
      "image/png": "[encoded data removed]",
      "text/plain": [
       "<Figure size 432x216 with 1 Axes>"
      ]
     },
     "metadata": {
      "needs_background": "light"
     },
     "output_type": "display_data"
    }
   ],
   "source": [
    "plot_accuracy_and_loss(training, EPOCHS)"
   ]
  },
  {
   "cell_type": "code",
   "execution_count": 12,
   "metadata": {},
   "outputs": [
    {
     "name": "stdout",
     "output_type": "stream",
     "text": [
      "Pick randomly images and predict their result:\n"
     ]
    },
    {
     "data": {
      "image/png": "[encoded data removed]",
      "text/plain": [
       "<Figure size 432x288 with 1 Axes>"
      ]
     },
     "metadata": {
      "needs_background": "light"
     },
     "output_type": "display_data"
    },
    {
     "name": "stdout",
     "output_type": "stream",
     "text": [
      "Prediction of the model: 3 \n",
      "\n"
     ]
    },
    {
     "data": {
      "image/png": "[encoded data removed]",
      "text/plain": [
       "<Figure size 432x288 with 1 Axes>"
      ]
     },
     "metadata": {
      "needs_background": "light"
     },
     "output_type": "display_data"
    },
    {
     "name": "stdout",
     "output_type": "stream",
     "text": [
      "Prediction of the model: 3 \n",
      "\n"
     ]
    },
    {
     "data": {
      "image/png": "[encoded data removed]",
      "text/plain": [
       "<Figure size 432x288 with 1 Axes>"
      ]
     },
     "metadata": {
      "needs_background": "light"
     },
     "output_type": "display_data"
    },
    {
     "name": "stdout",
     "output_type": "stream",
     "text": [
      "Prediction of the model: 7 \n",
      "\n"
     ]
    }
   ],
   "source": [
    "print(\"Pick randomly images and predict their result:\")\n",
    "random_prediction(model, x_test_original)"
   ]
  },
  {
   "cell_type": "code",
   "execution_count": 13,
   "metadata": {},
   "outputs": [],
   "source": [
    "save_model(model)"
   ]
  }
 ],
 "metadata": {
  "kernelspec": {
   "display_name": "Python 3",
   "language": "python",
   "name": "python3"
  },
  "language_info": {
   "codemirror_mode": {
    "name": "ipython",
    "version": 3
   },
   "file_extension": ".py",
   "mimetype": "text/x-python",
   "name": "python",
   "nbconvert_exporter": "python",
   "pygments_lexer": "ipython3",
   "version": "3.7.4"
  }
 },
 "nbformat": 4,
 "nbformat_minor": 4
}
